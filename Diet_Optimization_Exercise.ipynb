{
 "cells": [
  {
   "cell_type": "code",
   "execution_count": 1,
   "metadata": {},
   "outputs": [],
   "source": [
    "from pulp import *\n",
    "import pandas as pd\n",
    "import os"
   ]
  },
  {
   "cell_type": "code",
   "execution_count": 4,
   "metadata": {},
   "outputs": [],
   "source": [
    "# Import the data\n",
    "diet = pd.read_excel('diet.xls')"
   ]
  },
  {
   "cell_type": "code",
   "execution_count": 5,
   "metadata": {},
   "outputs": [
    {
     "data": {
      "text/plain": [
       "Index(['Foods', 'Price/ Serving', 'Serving Size', 'Calories', 'Cholesterol mg',\n",
       "       'Total_Fat g', 'Sodium mg', 'Carbohydrates g', 'Dietary_Fiber g',\n",
       "       'Protein g', 'Vit_A IU', 'Vit_C IU', 'Calcium mg', 'Iron mg'],\n",
       "      dtype='object')"
      ]
     },
     "execution_count": 5,
     "metadata": {},
     "output_type": "execute_result"
    }
   ],
   "source": [
    "# Exploring data - Columns\n",
    "diet.columns"
   ]
  },
  {
   "cell_type": "code",
   "execution_count": 6,
   "metadata": {},
   "outputs": [
    {
     "data": {
      "text/html": [
       "<div>\n",
       "<style scoped>\n",
       "    .dataframe tbody tr th:only-of-type {\n",
       "        vertical-align: middle;\n",
       "    }\n",
       "\n",
       "    .dataframe tbody tr th {\n",
       "        vertical-align: top;\n",
       "    }\n",
       "\n",
       "    .dataframe thead th {\n",
       "        text-align: right;\n",
       "    }\n",
       "</style>\n",
       "<table border=\"1\" class=\"dataframe\">\n",
       "  <thead>\n",
       "    <tr style=\"text-align: right;\">\n",
       "      <th></th>\n",
       "      <th>Foods</th>\n",
       "      <th>Price/ Serving</th>\n",
       "      <th>Serving Size</th>\n",
       "      <th>Calories</th>\n",
       "      <th>Cholesterol mg</th>\n",
       "      <th>Total_Fat g</th>\n",
       "      <th>Sodium mg</th>\n",
       "      <th>Carbohydrates g</th>\n",
       "      <th>Dietary_Fiber g</th>\n",
       "      <th>Protein g</th>\n",
       "      <th>Vit_A IU</th>\n",
       "      <th>Vit_C IU</th>\n",
       "      <th>Calcium mg</th>\n",
       "      <th>Iron mg</th>\n",
       "    </tr>\n",
       "  </thead>\n",
       "  <tbody>\n",
       "    <tr>\n",
       "      <th>0</th>\n",
       "      <td>Frozen Broccoli</td>\n",
       "      <td>0.16</td>\n",
       "      <td>10 Oz Pkg</td>\n",
       "      <td>73.8</td>\n",
       "      <td>0.0</td>\n",
       "      <td>0.8</td>\n",
       "      <td>68.2</td>\n",
       "      <td>13.6</td>\n",
       "      <td>8.5</td>\n",
       "      <td>8.0</td>\n",
       "      <td>5867.4</td>\n",
       "      <td>160.2</td>\n",
       "      <td>159.0</td>\n",
       "      <td>2.3</td>\n",
       "    </tr>\n",
       "    <tr>\n",
       "      <th>1</th>\n",
       "      <td>Carrots,Raw</td>\n",
       "      <td>0.07</td>\n",
       "      <td>1/2 Cup Shredded</td>\n",
       "      <td>23.7</td>\n",
       "      <td>0.0</td>\n",
       "      <td>0.1</td>\n",
       "      <td>19.2</td>\n",
       "      <td>5.6</td>\n",
       "      <td>1.6</td>\n",
       "      <td>0.6</td>\n",
       "      <td>15471.0</td>\n",
       "      <td>5.1</td>\n",
       "      <td>14.9</td>\n",
       "      <td>0.3</td>\n",
       "    </tr>\n",
       "    <tr>\n",
       "      <th>2</th>\n",
       "      <td>Celery, Raw</td>\n",
       "      <td>0.04</td>\n",
       "      <td>1 Stalk</td>\n",
       "      <td>6.4</td>\n",
       "      <td>0.0</td>\n",
       "      <td>0.1</td>\n",
       "      <td>34.8</td>\n",
       "      <td>1.5</td>\n",
       "      <td>0.7</td>\n",
       "      <td>0.3</td>\n",
       "      <td>53.6</td>\n",
       "      <td>2.8</td>\n",
       "      <td>16.0</td>\n",
       "      <td>0.2</td>\n",
       "    </tr>\n",
       "    <tr>\n",
       "      <th>3</th>\n",
       "      <td>Frozen Corn</td>\n",
       "      <td>0.18</td>\n",
       "      <td>1/2 Cup</td>\n",
       "      <td>72.2</td>\n",
       "      <td>0.0</td>\n",
       "      <td>0.6</td>\n",
       "      <td>2.5</td>\n",
       "      <td>17.1</td>\n",
       "      <td>2.0</td>\n",
       "      <td>2.5</td>\n",
       "      <td>106.6</td>\n",
       "      <td>5.2</td>\n",
       "      <td>3.3</td>\n",
       "      <td>0.3</td>\n",
       "    </tr>\n",
       "    <tr>\n",
       "      <th>4</th>\n",
       "      <td>Lettuce,Iceberg,Raw</td>\n",
       "      <td>0.02</td>\n",
       "      <td>1 Leaf</td>\n",
       "      <td>2.6</td>\n",
       "      <td>0.0</td>\n",
       "      <td>0.0</td>\n",
       "      <td>1.8</td>\n",
       "      <td>0.4</td>\n",
       "      <td>0.3</td>\n",
       "      <td>0.2</td>\n",
       "      <td>66.0</td>\n",
       "      <td>0.8</td>\n",
       "      <td>3.8</td>\n",
       "      <td>0.1</td>\n",
       "    </tr>\n",
       "  </tbody>\n",
       "</table>\n",
       "</div>"
      ],
      "text/plain": [
       "                 Foods  Price/ Serving      Serving Size  Calories  \\\n",
       "0      Frozen Broccoli            0.16         10 Oz Pkg      73.8   \n",
       "1          Carrots,Raw            0.07  1/2 Cup Shredded      23.7   \n",
       "2          Celery, Raw            0.04           1 Stalk       6.4   \n",
       "3          Frozen Corn            0.18           1/2 Cup      72.2   \n",
       "4  Lettuce,Iceberg,Raw            0.02            1 Leaf       2.6   \n",
       "\n",
       "   Cholesterol mg  Total_Fat g  Sodium mg  Carbohydrates g  Dietary_Fiber g  \\\n",
       "0             0.0          0.8       68.2             13.6              8.5   \n",
       "1             0.0          0.1       19.2              5.6              1.6   \n",
       "2             0.0          0.1       34.8              1.5              0.7   \n",
       "3             0.0          0.6        2.5             17.1              2.0   \n",
       "4             0.0          0.0        1.8              0.4              0.3   \n",
       "\n",
       "   Protein g  Vit_A IU  Vit_C IU  Calcium mg  Iron mg  \n",
       "0        8.0    5867.4     160.2       159.0      2.3  \n",
       "1        0.6   15471.0       5.1        14.9      0.3  \n",
       "2        0.3      53.6       2.8        16.0      0.2  \n",
       "3        2.5     106.6       5.2         3.3      0.3  \n",
       "4        0.2      66.0       0.8         3.8      0.1  "
      ]
     },
     "execution_count": 6,
     "metadata": {},
     "output_type": "execute_result"
    }
   ],
   "source": [
    "# Exploring data - Header\n",
    "diet.head()"
   ]
  },
  {
   "cell_type": "code",
   "execution_count": 7,
   "metadata": {},
   "outputs": [
    {
     "data": {
      "text/html": [
       "<div>\n",
       "<style scoped>\n",
       "    .dataframe tbody tr th:only-of-type {\n",
       "        vertical-align: middle;\n",
       "    }\n",
       "\n",
       "    .dataframe tbody tr th {\n",
       "        vertical-align: top;\n",
       "    }\n",
       "\n",
       "    .dataframe thead th {\n",
       "        text-align: right;\n",
       "    }\n",
       "</style>\n",
       "<table border=\"1\" class=\"dataframe\">\n",
       "  <thead>\n",
       "    <tr style=\"text-align: right;\">\n",
       "      <th></th>\n",
       "      <th>Foods</th>\n",
       "      <th>Price/ Serving</th>\n",
       "      <th>Serving Size</th>\n",
       "      <th>Calories</th>\n",
       "      <th>Cholesterol mg</th>\n",
       "      <th>Total_Fat g</th>\n",
       "      <th>Sodium mg</th>\n",
       "      <th>Carbohydrates g</th>\n",
       "      <th>Dietary_Fiber g</th>\n",
       "      <th>Protein g</th>\n",
       "      <th>Vit_A IU</th>\n",
       "      <th>Vit_C IU</th>\n",
       "      <th>Calcium mg</th>\n",
       "      <th>Iron mg</th>\n",
       "    </tr>\n",
       "  </thead>\n",
       "  <tbody>\n",
       "    <tr>\n",
       "      <th>62</th>\n",
       "      <td>Crm Mshrm Soup,W/Mlk</td>\n",
       "      <td>0.65</td>\n",
       "      <td>1 C (8 Fl Oz)</td>\n",
       "      <td>203.4</td>\n",
       "      <td>19.8</td>\n",
       "      <td>13.6</td>\n",
       "      <td>1076.3</td>\n",
       "      <td>15.0</td>\n",
       "      <td>0.5</td>\n",
       "      <td>6.1</td>\n",
       "      <td>153.8</td>\n",
       "      <td>2.2</td>\n",
       "      <td>178.6</td>\n",
       "      <td>0.6</td>\n",
       "    </tr>\n",
       "    <tr>\n",
       "      <th>63</th>\n",
       "      <td>Beanbacn Soup,W/Watr</td>\n",
       "      <td>0.67</td>\n",
       "      <td>1 C (8 Fl Oz)</td>\n",
       "      <td>172.0</td>\n",
       "      <td>2.5</td>\n",
       "      <td>5.9</td>\n",
       "      <td>951.3</td>\n",
       "      <td>22.8</td>\n",
       "      <td>8.6</td>\n",
       "      <td>7.9</td>\n",
       "      <td>888.0</td>\n",
       "      <td>1.5</td>\n",
       "      <td>81.0</td>\n",
       "      <td>2.0</td>\n",
       "    </tr>\n",
       "    <tr>\n",
       "      <th>64</th>\n",
       "      <td>NaN</td>\n",
       "      <td>NaN</td>\n",
       "      <td>NaN</td>\n",
       "      <td>NaN</td>\n",
       "      <td>NaN</td>\n",
       "      <td>NaN</td>\n",
       "      <td>NaN</td>\n",
       "      <td>NaN</td>\n",
       "      <td>NaN</td>\n",
       "      <td>NaN</td>\n",
       "      <td>NaN</td>\n",
       "      <td>NaN</td>\n",
       "      <td>NaN</td>\n",
       "      <td>NaN</td>\n",
       "    </tr>\n",
       "    <tr>\n",
       "      <th>65</th>\n",
       "      <td>NaN</td>\n",
       "      <td>NaN</td>\n",
       "      <td>Minimum daily intake</td>\n",
       "      <td>1500.0</td>\n",
       "      <td>30.0</td>\n",
       "      <td>20.0</td>\n",
       "      <td>800.0</td>\n",
       "      <td>130.0</td>\n",
       "      <td>125.0</td>\n",
       "      <td>60.0</td>\n",
       "      <td>1000.0</td>\n",
       "      <td>400.0</td>\n",
       "      <td>700.0</td>\n",
       "      <td>10.0</td>\n",
       "    </tr>\n",
       "    <tr>\n",
       "      <th>66</th>\n",
       "      <td>NaN</td>\n",
       "      <td>NaN</td>\n",
       "      <td>Maximum daily intake</td>\n",
       "      <td>2500.0</td>\n",
       "      <td>240.0</td>\n",
       "      <td>70.0</td>\n",
       "      <td>2000.0</td>\n",
       "      <td>450.0</td>\n",
       "      <td>250.0</td>\n",
       "      <td>100.0</td>\n",
       "      <td>10000.0</td>\n",
       "      <td>5000.0</td>\n",
       "      <td>1500.0</td>\n",
       "      <td>40.0</td>\n",
       "    </tr>\n",
       "  </tbody>\n",
       "</table>\n",
       "</div>"
      ],
      "text/plain": [
       "                   Foods  Price/ Serving          Serving Size  Calories  \\\n",
       "62  Crm Mshrm Soup,W/Mlk            0.65         1 C (8 Fl Oz)     203.4   \n",
       "63  Beanbacn Soup,W/Watr            0.67         1 C (8 Fl Oz)     172.0   \n",
       "64                   NaN             NaN                   NaN       NaN   \n",
       "65                   NaN             NaN  Minimum daily intake    1500.0   \n",
       "66                   NaN             NaN  Maximum daily intake    2500.0   \n",
       "\n",
       "    Cholesterol mg  Total_Fat g  Sodium mg  Carbohydrates g  Dietary_Fiber g  \\\n",
       "62            19.8         13.6     1076.3             15.0              0.5   \n",
       "63             2.5          5.9      951.3             22.8              8.6   \n",
       "64             NaN          NaN        NaN              NaN              NaN   \n",
       "65            30.0         20.0      800.0            130.0            125.0   \n",
       "66           240.0         70.0     2000.0            450.0            250.0   \n",
       "\n",
       "    Protein g  Vit_A IU  Vit_C IU  Calcium mg  Iron mg  \n",
       "62        6.1     153.8       2.2       178.6      0.6  \n",
       "63        7.9     888.0       1.5        81.0      2.0  \n",
       "64        NaN       NaN       NaN         NaN      NaN  \n",
       "65       60.0    1000.0     400.0       700.0     10.0  \n",
       "66      100.0   10000.0    5000.0      1500.0     40.0  "
      ]
     },
     "execution_count": 7,
     "metadata": {},
     "output_type": "execute_result"
    }
   ],
   "source": [
    "# Exploring data- Tail\n",
    "diet.tail()"
   ]
  },
  {
   "cell_type": "code",
   "execution_count": 8,
   "metadata": {},
   "outputs": [],
   "source": [
    "# Since it is clear that the bottom of file has missing rows, let's consider clean data for this analysis\n",
    "diet_clean = diet[0:64]"
   ]
  },
  {
   "cell_type": "code",
   "execution_count": 9,
   "metadata": {},
   "outputs": [],
   "source": [
    "# converting data to list\n",
    "diet_list = diet_clean.values.tolist()"
   ]
  },
  {
   "cell_type": "code",
   "execution_count": 10,
   "metadata": {},
   "outputs": [],
   "source": [
    "# Creating dictionaries \n",
    "\n",
    "foods = [x[0] for x in diet_list]\n",
    "cost =  dict([(x[0], float(x[1])) for x in diet_list])\n",
    "calories = dict([(x[0], float(x[3])) for x in diet_list])\n",
    "cholesterol = dict([(x[0], float(x[4])) for x in diet_list])\n",
    "totalFat = dict([(x[0], float(x[5])) for x in diet_list])\n",
    "sodium = dict([(x[0], float(x[6])) for x in diet_list])\n",
    "carbohydrates = dict([(x[0], float(x[7])) for x in diet_list])\n",
    "dietryfiber = dict([(x[0], float(x[8])) for x in diet_list])\n",
    "protien = dict([(x[0], float(x[9])) for x in diet_list])\n",
    "vit_A = dict([(x[0], float(x[10])) for x in diet_list])\n",
    "vit_C = dict([(x[0], float(x[11])) for x in diet_list])\n",
    "calcium = dict([(x[0], float(x[12])) for x in diet_list])\n",
    "iron = dict([(x[0], float(x[13])) for x in diet_list])"
   ]
  },
  {
   "cell_type": "code",
   "execution_count": 11,
   "metadata": {},
   "outputs": [],
   "source": [
    "# Initializing the problem\n",
    "\n",
    "diet_prob = LpProblem(name = \"Diet_problem\", sense = LpMinimize)\n",
    "\n",
    "# Initializing the initial food variable as continuous\n",
    "\n",
    "amount_vars = LpVariable.dicts(\"amounts\", foods,0 )\n",
    "\n",
    "# Initializing the initial chosen variable as Binary\n",
    "set_var = LpVariable.dicts(\"Set_Var\", foods, lowBound = 0, upBound = 1, cat = \"Binary\")\n"
   ]
  },
  {
   "cell_type": "code",
   "execution_count": 12,
   "metadata": {},
   "outputs": [],
   "source": [
    "# Setting the objective function (minimize the total cost for diet)\n",
    "diet_prob += lpSum([cost[i] * amount_vars[i] for i in foods]), 'total cost'"
   ]
  },
  {
   "cell_type": "code",
   "execution_count": 13,
   "metadata": {},
   "outputs": [],
   "source": [
    "# Adding constraints for all foods\n",
    "\n",
    "diet_prob += lpSum([calories[i] * amount_vars[i] for i in foods]) >= 1500, 'min_calories'\n",
    "diet_prob += lpSum([calories[i] * amount_vars[i] for i in foods]) <= 2500, 'max_calories'\n",
    "\n",
    "# For Cholestrol\n",
    "diet_prob += lpSum([cholesterol[i] * amount_vars[i] for i in foods]) >= 30, 'min_cholestrol'\n",
    "diet_prob += lpSum([cholesterol[i] * amount_vars[i] for i in foods]) <= 240, 'max_cholesterol'\n",
    "\n",
    "# For total Fat\n",
    "diet_prob += lpSum([totalFat[i] * amount_vars[i] for i in foods]) >= 20, 'min_totalFat'\n",
    "diet_prob += lpSum([totalFat[i] * amount_vars[i] for i in foods]) <= 70, 'max_totalFat'\n",
    "\n",
    "# For sodium\n",
    "diet_prob += lpSum([sodium[i] * amount_vars[i] for i in foods]) >= 800, 'min_sodium'\n",
    "diet_prob += lpSum([sodium[i] * amount_vars[i] for i in foods]) <= 2000, 'max_sodium'\n",
    "\n",
    "# For carbohydrates\n",
    "diet_prob += lpSum([carbohydrates[i] * amount_vars[i] for i in foods]) >= 130, 'min_carbohydrates'\n",
    "diet_prob += lpSum([carbohydrates[i] * amount_vars[i] for i in foods]) <= 450, 'max_carbohydrates'\n",
    "\n",
    "# For dietry fiber\n",
    "diet_prob += lpSum([dietryfiber[i] * amount_vars[i] for i in foods]) >= 125, 'min_dietryfiber'\n",
    "diet_prob += lpSum([dietryfiber[i] * amount_vars[i] for i in foods]) <= 250, 'max_dietryfiber'\n",
    "\n",
    "# For protien\n",
    "diet_prob += lpSum([protien[i] * amount_vars[i] for i in foods]) >= 60, 'min_protien'\n",
    "diet_prob += lpSum([protien[i] * amount_vars[i] for i in foods]) <= 100, 'max_protien'\n",
    "\n",
    "# For Vit_A\n",
    "diet_prob += lpSum([vit_A[i] * amount_vars[i] for i in foods]) >= 1000, 'min_vit_A'\n",
    "diet_prob += lpSum([vit_A[i] * amount_vars[i] for i in foods]) <= 10000, 'max_vit_A'\n",
    "\n",
    "# For Vit_C\n",
    "diet_prob += lpSum([vit_C[i] * amount_vars[i] for i in foods]) >= 400, 'min_vit_C'\n",
    "diet_prob += lpSum([vit_C[i] * amount_vars[i] for i in foods]) <= 5000, 'max_vit_C'\n",
    "\n",
    "# For Calcium\n",
    "\n",
    "diet_prob += lpSum([calcium[i] * amount_vars[i] for i in foods]) >= 700, 'min_calcium'\n",
    "diet_prob += lpSum([calcium[i] * amount_vars[i] for i in foods]) <= 1500, 'max_calcium'\n",
    "\n",
    "# For Iron\n",
    "\n",
    "diet_prob += lpSum([iron[i] * amount_vars[i] for i in foods]) >= 10, 'min_iron'\n",
    "diet_prob += lpSum([iron[i] * amount_vars[i] for i in foods]) <= 40, 'max_iron'"
   ]
  },
  {
   "cell_type": "code",
   "execution_count": 14,
   "metadata": {},
   "outputs": [
    {
     "data": {
      "text/plain": [
       "1"
      ]
     },
     "execution_count": 14,
     "metadata": {},
     "output_type": "execute_result"
    }
   ],
   "source": [
    "# Solving the problem for optimization\n",
    "diet_prob.solve()"
   ]
  },
  {
   "cell_type": "code",
   "execution_count": 16,
   "metadata": {},
   "outputs": [
    {
     "name": "stdout",
     "output_type": "stream",
     "text": [
      "Diet Optimization: Optimal\n",
      "amounts_Celery,_Raw = 52.64371\n",
      "amounts_Frozen_Broccoli = 0.25960653\n",
      "amounts_Lettuce,Iceberg,Raw = 63.988506\n",
      "amounts_Oranges = 2.2929389\n",
      "amounts_Poached_Eggs = 0.14184397\n",
      "amounts_Popcorn,Air_Popped = 13.869322\n"
     ]
    }
   ],
   "source": [
    "# Print the optimized diet\n",
    "print(\"Diet Optimization Solution:\", LpStatus[diet_prob.status])\n",
    "for j in diet_prob.variables():\n",
    "    if j.varValue > 0:\n",
    "        print(j.name, \"=\", j.varValue)"
   ]
  },
  {
   "cell_type": "code",
   "execution_count": 17,
   "metadata": {
    "scrolled": true
   },
   "outputs": [
    {
     "name": "stdout",
     "output_type": "stream",
     "text": [
      "Total Cost of food = $4.34\n"
     ]
    }
   ],
   "source": [
    "# Print the cost of optimized diet\n",
    "print (\"Total Cost of food = $%.2f\" % value(diet_prob.objective))"
   ]
  },
  {
   "cell_type": "markdown",
   "metadata": {},
   "source": [
    "#### 15.2.2: Adding Constraints and updating model"
   ]
  },
  {
   "cell_type": "code",
   "execution_count": 19,
   "metadata": {},
   "outputs": [],
   "source": [
    "# 15.2.2.a Adding Contraint for serving size (1/10) if selected\n",
    "\n",
    "for n in foods:\n",
    "    diet_prob += amount_vars[n] <= 10000* set_var[n]\n",
    "    diet_prob += amount_vars[n] >= .1*set_var[n]"
   ]
  },
  {
   "cell_type": "code",
   "execution_count": 20,
   "metadata": {},
   "outputs": [],
   "source": [
    "# 15.2.2.b Adding Contraint for celery and frozen broccoli\n",
    "    \n",
    "diet_prob += set_var['Frozen Broccoli'] + set_var['Celery, Raw'] <= 1"
   ]
  },
  {
   "cell_type": "code",
   "execution_count": 21,
   "metadata": {},
   "outputs": [],
   "source": [
    "# 15.2.2.c Adding Constraint for variety in Protien\n",
    "\n",
    "diet_prob += set_var['Roasted Chicken'] + set_var['White Tuna in Water'] + \\\n",
    "                set_var['Pork'] + set_var['Hamburger W/Toppings'] +\\\n",
    "                set_var['Hamburger W/Toppings'] + set_var['Tofu'] +\\\n",
    "                set_var['Scrambled Eggs'] + set_var['Frankfurter, Beef'] +\\\n",
    "                set_var['Bologna,Turkey'] +set_var['Pizza W/Pepperoni'] +\\\n",
    "                set_var['Spaghetti W/ Sauce'] >=3\n",
    "                "
   ]
  },
  {
   "cell_type": "code",
   "execution_count": 22,
   "metadata": {},
   "outputs": [
    {
     "data": {
      "text/plain": [
       "1"
      ]
     },
     "execution_count": 22,
     "metadata": {},
     "output_type": "execute_result"
    }
   ],
   "source": [
    "# Solving the problem for optimization with contraints set in place\n",
    "                \n",
    "diet_prob.solve()"
   ]
  },
  {
   "cell_type": "code",
   "execution_count": 23,
   "metadata": {},
   "outputs": [
    {
     "name": "stdout",
     "output_type": "stream",
     "text": [
      "Diet Optimization Solution with Constraints: Optimal\n",
      "Set_Var_Bologna,Turkey = 1.0\n",
      "Set_Var_Celery,_Raw = 1.0\n",
      "Set_Var_Lettuce,Iceberg,Raw = 1.0\n",
      "Set_Var_Oranges = 1.0\n",
      "Set_Var_Peanut_Butter = 1.0\n",
      "Set_Var_Popcorn,Air_Popped = 1.0\n",
      "Set_Var_Scrambled_Eggs = 1.0\n",
      "Set_Var_Tofu = 1.0\n",
      "amounts_Bologna,Turkey = 0.1\n",
      "amounts_Celery,_Raw = 42.784493\n",
      "amounts_Lettuce,Iceberg,Raw = 81.603764\n",
      "amounts_Oranges = 3.0831784\n",
      "amounts_Peanut_Butter = 1.9444189\n",
      "amounts_Popcorn,Air_Popped = 13.20665\n",
      "amounts_Scrambled_Eggs = 0.12874053\n",
      "amounts_Tofu = 0.1\n"
     ]
    }
   ],
   "source": [
    "# Print the optimized diet with constraints\n",
    "print(\"Diet Optimization Solution with Constraints:\", LpStatus[diet_prob.status])\n",
    "for d in diet_prob.variables():\n",
    "    if d.varValue >0:\n",
    "        print(d.name, \"=\", d.varValue)"
   ]
  },
  {
   "cell_type": "code",
   "execution_count": 25,
   "metadata": {},
   "outputs": [
    {
     "name": "stdout",
     "output_type": "stream",
     "text": [
      "Total Cost of optimized food with constraints = $4.53\n"
     ]
    }
   ],
   "source": [
    "# Print the cost of optimized diet with constraints\n",
    "print (\"Total Cost of optimized food with constraints = $%.2f\" % value(diet_prob.objective))"
   ]
  },
  {
   "cell_type": "markdown",
   "metadata": {},
   "source": [
    "#### When comparing both models, the cost doesn't change drastically. \n",
    "#### With simpler constraints such as intake, it is set at  4.34. \n",
    "#### Afterwards with added constraints on serving portion, vegetable preference and protien variety it goes up slightly to 4.53."
   ]
  }
 ],
 "metadata": {
  "kernelspec": {
   "display_name": "Python 3",
   "language": "python",
   "name": "python3"
  },
  "language_info": {
   "codemirror_mode": {
    "name": "ipython",
    "version": 3
   },
   "file_extension": ".py",
   "mimetype": "text/x-python",
   "name": "python",
   "nbconvert_exporter": "python",
   "pygments_lexer": "ipython3",
   "version": "3.7.3"
  }
 },
 "nbformat": 4,
 "nbformat_minor": 2
}
